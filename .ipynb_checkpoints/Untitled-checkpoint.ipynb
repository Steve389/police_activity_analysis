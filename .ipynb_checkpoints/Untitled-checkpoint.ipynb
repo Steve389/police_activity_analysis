{
 "cells": [
  {
   "cell_type": "markdown",
   "id": "30b84631",
   "metadata": {},
   "source": [
    "# Analyzing Police Activity "
   ]
  },
  {
   "cell_type": "markdown",
   "id": "89bb9ec7",
   "metadata": {},
   "source": [
    " In this project, I will analyse data from the [Stanford Open Policing dataset ](https://openpolicing.stanford.edu/data/). The dataset contains data for every US state; however, in this particular project, I will be focusing only on the RI (Rode Island) data.\n"
   ]
  },
  {
   "cell_type": "markdown",
   "id": "fab26190",
   "metadata": {},
   "source": [
    "## 1. Importing, examining, cleaning and preprocessing the dataset."
   ]
  },
  {
   "cell_type": "markdown",
   "id": "4073cb56",
   "metadata": {},
   "source": [
    "### Importing the dataset\n",
    "\n",
    "First, I will import the dataset and have a quick first glance at it. Since I want to see all the columns, I will also change the display options."
   ]
  },
  {
   "cell_type": "code",
   "execution_count": 301,
   "id": "019c751c",
   "metadata": {},
   "outputs": [
    {
     "name": "stderr",
     "output_type": "stream",
     "text": [
      "/var/folders/j_/l3vzl03913z2sw704nqb4lfc0000gn/T/ipykernel_78340/3996749009.py:5: DtypeWarning: Columns (6,17,30) have mixed types. Specify dtype option on import or set low_memory=False.\n",
      "  ri = pd.read_csv('ri_statewide_2020_04_01.csv')\n"
     ]
    },
    {
     "data": {
      "text/html": [
       "<div>\n",
       "<style scoped>\n",
       "    .dataframe tbody tr th:only-of-type {\n",
       "        vertical-align: middle;\n",
       "    }\n",
       "\n",
       "    .dataframe tbody tr th {\n",
       "        vertical-align: top;\n",
       "    }\n",
       "\n",
       "    .dataframe thead th {\n",
       "        text-align: right;\n",
       "    }\n",
       "</style>\n",
       "<table border=\"1\" class=\"dataframe\">\n",
       "  <thead>\n",
       "    <tr style=\"text-align: right;\">\n",
       "      <th></th>\n",
       "      <th>raw_row_number</th>\n",
       "      <th>date</th>\n",
       "      <th>time</th>\n",
       "      <th>zone</th>\n",
       "      <th>subject_race</th>\n",
       "      <th>subject_sex</th>\n",
       "      <th>department_id</th>\n",
       "      <th>type</th>\n",
       "      <th>arrest_made</th>\n",
       "      <th>citation_issued</th>\n",
       "      <th>warning_issued</th>\n",
       "      <th>outcome</th>\n",
       "      <th>contraband_found</th>\n",
       "      <th>contraband_drugs</th>\n",
       "      <th>contraband_weapons</th>\n",
       "      <th>contraband_alcohol</th>\n",
       "      <th>contraband_other</th>\n",
       "      <th>frisk_performed</th>\n",
       "      <th>search_conducted</th>\n",
       "      <th>search_basis</th>\n",
       "      <th>reason_for_search</th>\n",
       "      <th>reason_for_stop</th>\n",
       "      <th>vehicle_make</th>\n",
       "      <th>vehicle_model</th>\n",
       "      <th>raw_BasisForStop</th>\n",
       "      <th>raw_OperatorRace</th>\n",
       "      <th>raw_OperatorSex</th>\n",
       "      <th>raw_ResultOfStop</th>\n",
       "      <th>raw_SearchResultOne</th>\n",
       "      <th>raw_SearchResultTwo</th>\n",
       "      <th>raw_SearchResultThree</th>\n",
       "    </tr>\n",
       "  </thead>\n",
       "  <tbody>\n",
       "    <tr>\n",
       "      <th>0</th>\n",
       "      <td>1</td>\n",
       "      <td>2005-11-22</td>\n",
       "      <td>11:15:00</td>\n",
       "      <td>X3</td>\n",
       "      <td>white</td>\n",
       "      <td>male</td>\n",
       "      <td>200</td>\n",
       "      <td>vehicular</td>\n",
       "      <td>False</td>\n",
       "      <td>True</td>\n",
       "      <td>False</td>\n",
       "      <td>citation</td>\n",
       "      <td>NaN</td>\n",
       "      <td>NaN</td>\n",
       "      <td>NaN</td>\n",
       "      <td>NaN</td>\n",
       "      <td>NaN</td>\n",
       "      <td>False</td>\n",
       "      <td>False</td>\n",
       "      <td>NaN</td>\n",
       "      <td>NaN</td>\n",
       "      <td>Speeding</td>\n",
       "      <td>NaN</td>\n",
       "      <td>NaN</td>\n",
       "      <td>SP</td>\n",
       "      <td>W</td>\n",
       "      <td>M</td>\n",
       "      <td>M</td>\n",
       "      <td>NaN</td>\n",
       "      <td>NaN</td>\n",
       "      <td>NaN</td>\n",
       "    </tr>\n",
       "    <tr>\n",
       "      <th>1</th>\n",
       "      <td>2</td>\n",
       "      <td>2005-10-01</td>\n",
       "      <td>12:20:00</td>\n",
       "      <td>X3</td>\n",
       "      <td>white</td>\n",
       "      <td>male</td>\n",
       "      <td>200</td>\n",
       "      <td>vehicular</td>\n",
       "      <td>False</td>\n",
       "      <td>True</td>\n",
       "      <td>False</td>\n",
       "      <td>citation</td>\n",
       "      <td>NaN</td>\n",
       "      <td>NaN</td>\n",
       "      <td>NaN</td>\n",
       "      <td>NaN</td>\n",
       "      <td>NaN</td>\n",
       "      <td>False</td>\n",
       "      <td>False</td>\n",
       "      <td>NaN</td>\n",
       "      <td>NaN</td>\n",
       "      <td>Speeding</td>\n",
       "      <td>NaN</td>\n",
       "      <td>NaN</td>\n",
       "      <td>SP</td>\n",
       "      <td>W</td>\n",
       "      <td>M</td>\n",
       "      <td>M</td>\n",
       "      <td>NaN</td>\n",
       "      <td>NaN</td>\n",
       "      <td>NaN</td>\n",
       "    </tr>\n",
       "    <tr>\n",
       "      <th>2</th>\n",
       "      <td>3</td>\n",
       "      <td>2005-10-01</td>\n",
       "      <td>12:30:00</td>\n",
       "      <td>X3</td>\n",
       "      <td>white</td>\n",
       "      <td>female</td>\n",
       "      <td>200</td>\n",
       "      <td>vehicular</td>\n",
       "      <td>False</td>\n",
       "      <td>True</td>\n",
       "      <td>False</td>\n",
       "      <td>citation</td>\n",
       "      <td>NaN</td>\n",
       "      <td>NaN</td>\n",
       "      <td>NaN</td>\n",
       "      <td>NaN</td>\n",
       "      <td>NaN</td>\n",
       "      <td>False</td>\n",
       "      <td>False</td>\n",
       "      <td>NaN</td>\n",
       "      <td>NaN</td>\n",
       "      <td>Speeding</td>\n",
       "      <td>NaN</td>\n",
       "      <td>NaN</td>\n",
       "      <td>SP</td>\n",
       "      <td>W</td>\n",
       "      <td>F</td>\n",
       "      <td>M</td>\n",
       "      <td>NaN</td>\n",
       "      <td>NaN</td>\n",
       "      <td>NaN</td>\n",
       "    </tr>\n",
       "    <tr>\n",
       "      <th>3</th>\n",
       "      <td>4</td>\n",
       "      <td>2005-10-01</td>\n",
       "      <td>12:50:00</td>\n",
       "      <td>X3</td>\n",
       "      <td>white</td>\n",
       "      <td>male</td>\n",
       "      <td>200</td>\n",
       "      <td>vehicular</td>\n",
       "      <td>False</td>\n",
       "      <td>True</td>\n",
       "      <td>False</td>\n",
       "      <td>citation</td>\n",
       "      <td>NaN</td>\n",
       "      <td>NaN</td>\n",
       "      <td>NaN</td>\n",
       "      <td>NaN</td>\n",
       "      <td>NaN</td>\n",
       "      <td>False</td>\n",
       "      <td>False</td>\n",
       "      <td>NaN</td>\n",
       "      <td>NaN</td>\n",
       "      <td>Speeding</td>\n",
       "      <td>NaN</td>\n",
       "      <td>NaN</td>\n",
       "      <td>SP</td>\n",
       "      <td>W</td>\n",
       "      <td>M</td>\n",
       "      <td>M</td>\n",
       "      <td>NaN</td>\n",
       "      <td>NaN</td>\n",
       "      <td>NaN</td>\n",
       "    </tr>\n",
       "    <tr>\n",
       "      <th>4</th>\n",
       "      <td>5</td>\n",
       "      <td>2005-10-01</td>\n",
       "      <td>13:10:00</td>\n",
       "      <td>X3</td>\n",
       "      <td>white</td>\n",
       "      <td>female</td>\n",
       "      <td>200</td>\n",
       "      <td>vehicular</td>\n",
       "      <td>False</td>\n",
       "      <td>True</td>\n",
       "      <td>False</td>\n",
       "      <td>citation</td>\n",
       "      <td>NaN</td>\n",
       "      <td>NaN</td>\n",
       "      <td>NaN</td>\n",
       "      <td>NaN</td>\n",
       "      <td>NaN</td>\n",
       "      <td>False</td>\n",
       "      <td>False</td>\n",
       "      <td>NaN</td>\n",
       "      <td>NaN</td>\n",
       "      <td>Speeding</td>\n",
       "      <td>NaN</td>\n",
       "      <td>NaN</td>\n",
       "      <td>SP</td>\n",
       "      <td>W</td>\n",
       "      <td>F</td>\n",
       "      <td>M</td>\n",
       "      <td>NaN</td>\n",
       "      <td>NaN</td>\n",
       "      <td>NaN</td>\n",
       "    </tr>\n",
       "  </tbody>\n",
       "</table>\n",
       "</div>"
      ],
      "text/plain": [
       "   raw_row_number        date      time zone subject_race subject_sex  \\\n",
       "0               1  2005-11-22  11:15:00   X3        white        male   \n",
       "1               2  2005-10-01  12:20:00   X3        white        male   \n",
       "2               3  2005-10-01  12:30:00   X3        white      female   \n",
       "3               4  2005-10-01  12:50:00   X3        white        male   \n",
       "4               5  2005-10-01  13:10:00   X3        white      female   \n",
       "\n",
       "  department_id       type arrest_made citation_issued warning_issued  \\\n",
       "0           200  vehicular       False            True          False   \n",
       "1           200  vehicular       False            True          False   \n",
       "2           200  vehicular       False            True          False   \n",
       "3           200  vehicular       False            True          False   \n",
       "4           200  vehicular       False            True          False   \n",
       "\n",
       "    outcome contraband_found contraband_drugs contraband_weapons  \\\n",
       "0  citation              NaN              NaN                NaN   \n",
       "1  citation              NaN              NaN                NaN   \n",
       "2  citation              NaN              NaN                NaN   \n",
       "3  citation              NaN              NaN                NaN   \n",
       "4  citation              NaN              NaN                NaN   \n",
       "\n",
       "  contraband_alcohol contraband_other frisk_performed  search_conducted  \\\n",
       "0                NaN              NaN           False             False   \n",
       "1                NaN              NaN           False             False   \n",
       "2                NaN              NaN           False             False   \n",
       "3                NaN              NaN           False             False   \n",
       "4                NaN              NaN           False             False   \n",
       "\n",
       "  search_basis reason_for_search reason_for_stop vehicle_make vehicle_model  \\\n",
       "0          NaN               NaN        Speeding          NaN           NaN   \n",
       "1          NaN               NaN        Speeding          NaN           NaN   \n",
       "2          NaN               NaN        Speeding          NaN           NaN   \n",
       "3          NaN               NaN        Speeding          NaN           NaN   \n",
       "4          NaN               NaN        Speeding          NaN           NaN   \n",
       "\n",
       "  raw_BasisForStop raw_OperatorRace raw_OperatorSex raw_ResultOfStop  \\\n",
       "0               SP                W               M                M   \n",
       "1               SP                W               M                M   \n",
       "2               SP                W               F                M   \n",
       "3               SP                W               M                M   \n",
       "4               SP                W               F                M   \n",
       "\n",
       "  raw_SearchResultOne raw_SearchResultTwo raw_SearchResultThree  \n",
       "0                 NaN                 NaN                   NaN  \n",
       "1                 NaN                 NaN                   NaN  \n",
       "2                 NaN                 NaN                   NaN  \n",
       "3                 NaN                 NaN                   NaN  \n",
       "4                 NaN                 NaN                   NaN  "
      ]
     },
     "execution_count": 301,
     "metadata": {},
     "output_type": "execute_result"
    }
   ],
   "source": [
    "import pandas as pd\n",
    "\n",
    "pd.options.display.max_columns = 100\n",
    "\n",
    "ri = pd.read_csv('ri_statewide_2020_04_01.csv')\n",
    "ri.head()"
   ]
  },
  {
   "cell_type": "markdown",
   "id": "e66cda08",
   "metadata": {},
   "source": [
    "**Dealing with null values**\n",
    "\n",
    "The first step in data cleaning is dealing with null values. \n",
    "Printing the sum of null values for each column together with the shape of the dataset allows me to quickly compare the number of null values to the total number of rows; this is helpful because I can identify the columns that have an overwhelming  majority of null values."
   ]
  },
  {
   "cell_type": "code",
   "execution_count": 302,
   "id": "8b01bd7a",
   "metadata": {},
   "outputs": [
    {
     "name": "stdout",
     "output_type": "stream",
     "text": [
      "raw_row_number                0\n",
      "date                         10\n",
      "time                         10\n",
      "zone                         10\n",
      "subject_race              29073\n",
      "subject_sex               29097\n",
      "department_id                10\n",
      "type                          0\n",
      "arrest_made               29073\n",
      "citation_issued           29073\n",
      "warning_issued            29073\n",
      "outcome                   35841\n",
      "contraband_found         491919\n",
      "contraband_drugs         493693\n",
      "contraband_weapons       497886\n",
      "contraband_alcohol       508464\n",
      "contraband_other         491919\n",
      "frisk_performed              10\n",
      "search_conducted              0\n",
      "search_basis             491919\n",
      "reason_for_search        491919\n",
      "reason_for_stop           29073\n",
      "vehicle_make             191564\n",
      "vehicle_model            279593\n",
      "raw_BasisForStop          29073\n",
      "raw_OperatorRace          29073\n",
      "raw_OperatorSex           29073\n",
      "raw_ResultOfStop          29073\n",
      "raw_SearchResultOne      491919\n",
      "raw_SearchResultTwo      508862\n",
      "raw_SearchResultThree    509513\n",
      "dtype: int64\n",
      "\n",
      "\n",
      "Shape: (509681, 31)\n"
     ]
    }
   ],
   "source": [
    "print(ri.isnull().sum())\n",
    "print('\\n')\n",
    "print('Shape:',ri.shape)"
   ]
  },
  {
   "cell_type": "markdown",
   "id": "cd273ffe",
   "metadata": {},
   "source": [
    "I will drop the columns that have more than 400K null values and are not relevant for my future analysis, then reprint the shape of the dataset to make sure that the columns have been deleted."
   ]
  },
  {
   "cell_type": "code",
   "execution_count": 303,
   "id": "ec2ac42e",
   "metadata": {},
   "outputs": [
    {
     "data": {
      "text/plain": [
       "(509681, 22)"
      ]
     },
     "execution_count": 303,
     "metadata": {},
     "output_type": "execute_result"
    }
   ],
   "source": [
    "ri.drop(columns=['raw_SearchResultOne','raw_SearchResultTwo','raw_SearchResultThree','contraband_found','contraband_weapons','contraband_alcohol','contraband_other','search_basis','reason_for_search'], axis= 1,inplace= True)\n",
    "\n",
    "ri.shape"
   ]
  },
  {
   "cell_type": "markdown",
   "id": "9c401471",
   "metadata": {},
   "source": [
    "A part from simply removing columns, it can also be useful to remove the rows where specific columns contain missing values, especially if these columns might be relevant and contain a relatively low number of missing values. This is the case for date,time,zone,department_id,frisk_performed. I will use dropna to remove rows with null values for these columns and the print the sum of null values for each column to double check."
   ]
  },
  {
   "cell_type": "code",
   "execution_count": 304,
   "id": "5cced5d2",
   "metadata": {},
   "outputs": [
    {
     "name": "stdout",
     "output_type": "stream",
     "text": [
      "raw_row_number           0\n",
      "date                     0\n",
      "time                     0\n",
      "zone                     0\n",
      "subject_race         29063\n",
      "subject_sex          29087\n",
      "department_id            0\n",
      "type                     0\n",
      "arrest_made          29063\n",
      "citation_issued      29063\n",
      "warning_issued       29063\n",
      "outcome              35831\n",
      "contraband_drugs    493683\n",
      "frisk_performed          0\n",
      "search_conducted         0\n",
      "reason_for_stop      29063\n",
      "vehicle_make        191554\n",
      "vehicle_model       279583\n",
      "raw_BasisForStop     29063\n",
      "raw_OperatorRace     29063\n",
      "raw_OperatorSex      29063\n",
      "raw_ResultOfStop     29063\n",
      "dtype: int64\n"
     ]
    }
   ],
   "source": [
    "ri.dropna(subset=['date','time','zone','department_id','frisk_performed'], inplace=True)\n",
    "\n",
    "print(ri.isnull().sum())"
   ]
  },
  {
   "cell_type": "markdown",
   "id": "f85cfb08",
   "metadata": {},
   "source": [
    "As expected the columns date,time,zone,department_id and frisk_performed don't have null values anymore. That's great news! But what about columns like subject_race, subject_sex, arrest_made, citation_issued, warning_issued, outcome, reason_for_stop? These columns are necessary for my analysis but have a higher number of null values. \n",
    "\n",
    "Deleting them might mean loosing some valuable data; however, they all seem to have a very similar number of missing values: does this mean that the NaN values for these columns affect the same rows? If that's the case then dropping them wouldn't be such a loss. To check if this is the case, I will drop the missing values for one column and see if this also affects the other columns."
   ]
  },
  {
   "cell_type": "code",
   "execution_count": 305,
   "id": "e63e88e5",
   "metadata": {},
   "outputs": [
    {
     "data": {
      "text/plain": [
       "raw_row_number           0\n",
       "date                     0\n",
       "time                     0\n",
       "zone                     0\n",
       "subject_race             0\n",
       "subject_sex              0\n",
       "department_id            0\n",
       "type                     0\n",
       "arrest_made              0\n",
       "citation_issued          0\n",
       "warning_issued           0\n",
       "outcome               6763\n",
       "contraband_drugs    464596\n",
       "frisk_performed          0\n",
       "search_conducted         0\n",
       "reason_for_stop          0\n",
       "vehicle_make        162525\n",
       "vehicle_model       250553\n",
       "raw_BasisForStop         0\n",
       "raw_OperatorRace         0\n",
       "raw_OperatorSex          0\n",
       "raw_ResultOfStop         0\n",
       "dtype: int64"
      ]
     },
     "execution_count": 305,
     "metadata": {},
     "output_type": "execute_result"
    }
   ],
   "source": [
    "ri2 = ri.dropna(subset=['subject_sex'])\n",
    "\n",
    "ri2.isnull().sum()"
   ]
  },
  {
   "cell_type": "markdown",
   "id": "2f55bba3",
   "metadata": {},
   "source": [
    "The results show 0 NaNs for subject_sex, but also 0 for subject_race,arrest_made,citation_issued,warning_issued,reason_for_stop. This means  that the missing values for these columns affected the same rows that were dropped. In that case, dropping them wouldn't be a huge loss because they don't really contain much relevant information to my specific analysis needs.\n",
    "I will also drop the remaining missing values for the column outcome since it's a relatively small number."
   ]
  },
  {
   "cell_type": "code",
   "execution_count": 306,
   "id": "fd4405f5",
   "metadata": {},
   "outputs": [
    {
     "data": {
      "text/plain": [
       "raw_row_number           0\n",
       "date                     0\n",
       "time                     0\n",
       "zone                     0\n",
       "subject_race             0\n",
       "subject_sex              0\n",
       "department_id            0\n",
       "type                     0\n",
       "arrest_made              0\n",
       "citation_issued          0\n",
       "warning_issued           0\n",
       "outcome                  0\n",
       "contraband_drugs    458226\n",
       "frisk_performed          0\n",
       "search_conducted         0\n",
       "reason_for_stop          0\n",
       "vehicle_make        161088\n",
       "vehicle_model       247447\n",
       "raw_BasisForStop         0\n",
       "raw_OperatorRace         0\n",
       "raw_OperatorSex          0\n",
       "raw_ResultOfStop         0\n",
       "dtype: int64"
      ]
     },
     "execution_count": 306,
     "metadata": {},
     "output_type": "execute_result"
    }
   ],
   "source": [
    "ri.dropna(subset=['subject_sex','subject_race','citation_issued','warning_issued','outcome','reason_for_stop'], inplace=True)\n",
    "\n",
    "ri.isnull().sum()"
   ]
  },
  {
   "cell_type": "markdown",
   "id": "36bedab2",
   "metadata": {},
   "source": [
    "**Dealing with datatypes**\n",
    "\n",
    "Now, I will continue cleaning the data by ensuring that every column has the correct datatype. Let's print an overview of all the column datatypes."
   ]
  },
  {
   "cell_type": "code",
   "execution_count": 307,
   "id": "fb6c4ddd",
   "metadata": {},
   "outputs": [
    {
     "data": {
      "text/plain": [
       "raw_row_number       int64\n",
       "date                object\n",
       "time                object\n",
       "zone                object\n",
       "subject_race        object\n",
       "subject_sex         object\n",
       "department_id       object\n",
       "type                object\n",
       "arrest_made         object\n",
       "citation_issued     object\n",
       "warning_issued      object\n",
       "outcome             object\n",
       "contraband_drugs    object\n",
       "frisk_performed     object\n",
       "search_conducted      bool\n",
       "reason_for_stop     object\n",
       "vehicle_make        object\n",
       "vehicle_model       object\n",
       "raw_BasisForStop    object\n",
       "raw_OperatorRace    object\n",
       "raw_OperatorSex     object\n",
       "raw_ResultOfStop    object\n",
       "dtype: object"
      ]
     },
     "execution_count": 307,
     "metadata": {},
     "output_type": "execute_result"
    }
   ],
   "source": [
    "ri.dtypes"
   ]
  },
  {
   "cell_type": "markdown",
   "id": "04900c68",
   "metadata": {},
   "source": [
    "Most of the columns are python objects, however, for future calculation and analysis purposes, it is better to convert some of the features to booleans."
   ]
  },
  {
   "cell_type": "code",
   "execution_count": 308,
   "id": "cdf71c08",
   "metadata": {},
   "outputs": [],
   "source": [
    "ri['frisk_performed'] = ri.frisk_performed.astype('bool')\n",
    "ri['arrest_made'] = ri.arrest_made.astype('bool')\n",
    "ri['citation_issued'] = ri.citation_issued.astype('bool')\n",
    "ri['warning_issued'] = ri.warning_issued.astype('bool')"
   ]
  },
  {
   "cell_type": "markdown",
   "id": "2a7b28cf",
   "metadata": {},
   "source": [
    "Now, I will combine the date and time columns in one column and then convert it to datetime object; after this, I will set the datetime column as index of the dataframe."
   ]
  },
  {
   "cell_type": "code",
   "execution_count": 309,
   "id": "1ba17748",
   "metadata": {},
   "outputs": [],
   "source": [
    "combined = ri.date.str.cat(ri.time, sep=' ')\n",
    "ri['date_time'] = pd.to_datetime(combined)\n",
    "ri.set_index('date_time', inplace=True)"
   ]
  },
  {
   "cell_type": "markdown",
   "id": "55dfdf21",
   "metadata": {},
   "source": [
    "## 2. Analysis "
   ]
  },
  {
   "cell_type": "markdown",
   "id": "0d074904",
   "metadata": {},
   "source": [
    "**Traffic violations across all drivers**\n",
    "\n",
    "The first question I want to answer is how many drivers commit what type of violation."
   ]
  },
  {
   "cell_type": "code",
   "execution_count": 310,
   "id": "97b9a190",
   "metadata": {},
   "outputs": [
    {
     "name": "stdout",
     "output_type": "stream",
     "text": [
      "Speeding                            268203\n",
      "Other Traffic Violation              89600\n",
      "Equipment/Inspection Violation       58249\n",
      "Registration Violation               19598\n",
      "Seatbelt Violation                   16271\n",
      "Special Detail/Directed Patrol       13456\n",
      "Call for Service                      6288\n",
      "Violation of City/Town Ordinance      1020\n",
      "APB                                    445\n",
      "Motorist Assist/Courtesy               365\n",
      "Suspicious Person                      221\n",
      "Warrant                                105\n",
      "Name: reason_for_stop, dtype: int64\n",
      "\n",
      "\n",
      "Speeding                            0.566043\n",
      "Other Traffic Violation             0.189101\n",
      "Equipment/Inspection Violation      0.122935\n",
      "Registration Violation              0.041362\n",
      "Seatbelt Violation                  0.034340\n",
      "Special Detail/Directed Patrol      0.028399\n",
      "Call for Service                    0.013271\n",
      "Violation of City/Town Ordinance    0.002153\n",
      "APB                                 0.000939\n",
      "Motorist Assist/Courtesy            0.000770\n",
      "Suspicious Person                   0.000466\n",
      "Warrant                             0.000222\n",
      "Name: reason_for_stop, dtype: float64\n"
     ]
    }
   ],
   "source": [
    "print(ri.reason_for_stop.value_counts())\n",
    "print('\\n')\n",
    "print(ri.reason_for_stop.value_counts(normalize=True))\n"
   ]
  },
  {
   "cell_type": "markdown",
   "id": "d9ace3b4",
   "metadata": {},
   "source": [
    "**Traffic violations across gender**\n",
    "\n",
    "What about traffic violations across gender? Do different genders tend to commit different violations? \n",
    "Let's see"
   ]
  },
  {
   "cell_type": "code",
   "execution_count": 311,
   "id": "471669aa",
   "metadata": {},
   "outputs": [
    {
     "name": "stdout",
     "output_type": "stream",
     "text": [
      "Male violations:\n",
      "Speeding                            0.528537\n",
      "Other Traffic Violation             0.208428\n",
      "Equipment/Inspection Violation      0.130460\n",
      "Registration Violation              0.040605\n",
      "Special Detail/Directed Patrol      0.037131\n",
      "Seatbelt Violation                  0.036934\n",
      "Call for Service                    0.012992\n",
      "Violation of City/Town Ordinance    0.002348\n",
      "APB                                 0.000998\n",
      "Motorist Assist/Courtesy            0.000815\n",
      "Suspicious Person                   0.000514\n",
      "Warrant                             0.000238\n",
      "Name: reason_for_stop, dtype: float64\n",
      "\n",
      "\n",
      "Female violations:\n",
      "Speeding                            0.666050\n",
      "Other Traffic Violation             0.137567\n",
      "Equipment/Inspection Violation      0.102869\n",
      "Registration Violation              0.043379\n",
      "Seatbelt Violation                  0.027424\n",
      "Call for Service                    0.014014\n",
      "Special Detail/Directed Patrol      0.005115\n",
      "Violation of City/Town Ordinance    0.001633\n",
      "APB                                 0.000782\n",
      "Motorist Assist/Courtesy            0.000650\n",
      "Suspicious Person                   0.000340\n",
      "Warrant                             0.000178\n",
      "Name: reason_for_stop, dtype: float64\n"
     ]
    }
   ],
   "source": [
    "male_violation = ri[ri['subject_sex']=='male']\n",
    "female_violation = ri[ri['subject_sex']=='female']\n",
    "\n",
    "print('Male violations:\\n{}'.format(male_violation.reason_for_stop.value_counts(normalize=True)))\n",
    "print('\\n')\n",
    "print('Female violations:\\n{}'.format(female_violation.reason_for_stop.value_counts(normalize=True)))"
   ]
  },
  {
   "cell_type": "markdown",
   "id": "17de298e",
   "metadata": {},
   "source": [
    "Females seem to have a higher percentage for speeding; however this result doesn't mean much because it doesn't take in count the number of stops or drivers."
   ]
  },
  {
   "cell_type": "markdown",
   "id": "0e4d765b",
   "metadata": {},
   "source": [
    "**Does gender affect who gets a citation vs who gets a warning?**\n",
    "\n",
    "What happens after the driver is stopped? Does gender have an impact on whether the driver will receive a ticket or a warning? \n",
    "To answer this, I will focus only on the male and female drivers that were stopped for speeding and see one gender received more warnings than citations or viceversa."
   ]
  },
  {
   "cell_type": "code",
   "execution_count": 312,
   "id": "d62898b1",
   "metadata": {},
   "outputs": [
    {
     "name": "stdout",
     "output_type": "stream",
     "text": [
      "Outcomes of males stopped for speeding:\n",
      "citation    0.946763\n",
      "warning     0.036167\n",
      "arrest      0.017070\n",
      "Name: outcome, dtype: float64\n",
      "\n",
      "\n",
      "Outcomes of females stopped for speeding:\n",
      "citation    0.954609\n",
      "warning     0.039059\n",
      "arrest      0.006332\n",
      "Name: outcome, dtype: float64\n"
     ]
    }
   ],
   "source": [
    "male_and_speeding = ri[(ri['subject_sex']=='male') & (ri['reason_for_stop']=='Speeding')]\n",
    "female_and_speeding = ri[(ri['subject_sex']=='female') & (ri['reason_for_stop']=='Speeding')]\n",
    "\n",
    "print('Outcomes of males stopped for speeding:\\n{}'.format(male_and_speeding.outcome.value_counts(normalize=True)))\n",
    "print('\\n')\n",
    "print('Outcomes of females stopped for speeding:\\n{}'.format(female_and_speeding.outcome.value_counts(normalize=True)))\n"
   ]
  },
  {
   "cell_type": "markdown",
   "id": "24614f3c",
   "metadata": {},
   "source": [
    "The results don't show a big difference: around 95% of both males and females that were stopped for speeding seem to have received a citation; the same applies for warnings."
   ]
  },
  {
   "cell_type": "markdown",
   "id": "4c37a4d8",
   "metadata": {},
   "source": [
    "**Does gender affect whose car is searched?**\n",
    "\n"
   ]
  },
  {
   "cell_type": "markdown",
   "id": "37a3ae6c",
   "metadata": {},
   "source": [
    "First, let's calculate the percentage of vehicle searches across all stops. The true values correspond to the cars being searched."
   ]
  },
  {
   "cell_type": "code",
   "execution_count": 313,
   "id": "36eee07b",
   "metadata": {},
   "outputs": [
    {
     "name": "stdout",
     "output_type": "stream",
     "text": [
      "Percentage of search rates (True values) across all stops:\n",
      "False    0.963423\n",
      "True     0.036577\n",
      "Name: search_conducted, dtype: float64\n",
      "\n",
      "\n",
      "Percentage of search rates calculating the mean of the boolean series:\n",
      "0.03657710401185258\n"
     ]
    }
   ],
   "source": [
    "print('Percentage of search rates (True values) across all stops:\\n{}'.format(ri.search_conducted.value_counts(normalize=True)))\n",
    "print('\\n')\n",
    "print('Percentage of search rates calculating the mean of the boolean series:\\n{}'.format(ri.search_conducted.mean()))"
   ]
  },
  {
   "cell_type": "markdown",
   "id": "36a38374",
   "metadata": {},
   "source": [
    "Then, let's see the percentages for each gender."
   ]
  },
  {
   "cell_type": "code",
   "execution_count": 314,
   "id": "ade36618",
   "metadata": {},
   "outputs": [
    {
     "data": {
      "text/plain": [
       "subject_sex\n",
       "female    0.018556\n",
       "male      0.043336\n",
       "Name: search_conducted, dtype: float64"
      ]
     },
     "execution_count": 314,
     "metadata": {},
     "output_type": "execute_result"
    }
   ],
   "source": [
    "ri.groupby('subject_sex').search_conducted.mean()"
   ]
  },
  {
   "cell_type": "markdown",
   "id": "01e7cdba",
   "metadata": {},
   "source": [
    "Males seem to have a higher search rate percentage. But why is that? Is it just because males are searched at a higher rate than women or because men commit different violations than women? "
   ]
  },
  {
   "cell_type": "code",
   "execution_count": 315,
   "id": "30eb9da9",
   "metadata": {},
   "outputs": [
    {
     "data": {
      "text/plain": [
       "reason_for_stop                   subject_sex\n",
       "APB                               female         0.168317\n",
       "                                  male           0.270349\n",
       "Call for Service                  female         0.054114\n",
       "                                  male           0.106768\n",
       "Equipment/Inspection Violation    female         0.040394\n",
       "                                  male           0.071471\n",
       "Motorist Assist/Courtesy          female         0.119048\n",
       "                                  male           0.202847\n",
       "Other Traffic Violation           female         0.037462\n",
       "                                  male           0.058130\n",
       "Registration Violation            female         0.053871\n",
       "                                  male           0.101987\n",
       "Seatbelt Violation                female         0.017777\n",
       "                                  male           0.031429\n",
       "Special Detail/Directed Patrol    female         0.018154\n",
       "                                  male           0.010238\n",
       "Speeding                          female         0.007714\n",
       "                                  male           0.026437\n",
       "Suspicious Person                 female         0.272727\n",
       "                                  male           0.344633\n",
       "Violation of City/Town Ordinance  female         0.061611\n",
       "                                  male           0.069221\n",
       "Warrant                           female         0.173913\n",
       "                                  male           0.329268\n",
       "Name: search_conducted, dtype: float64"
      ]
     },
     "execution_count": 315,
     "metadata": {},
     "output_type": "execute_result"
    }
   ],
   "source": [
    "ri.groupby(['reason_for_stop','subject_sex']).search_conducted.mean()"
   ]
  },
  {
   "cell_type": "markdown",
   "id": "19e59322",
   "metadata": {},
   "source": [
    "For each type of violation, men have a percentage than women; violation doesn't  seem to be one of the factor that affects search rate.\n",
    "\n",
    "My hypothesis was that search rate varies by violation type, and the difference in search rate between males and females is perhaps because they tend to commit different violations. These results disproved my hypothesis. This doesn't prove a causal link between gender and vehicles searches, but it does show a correlation."
   ]
  },
  {
   "cell_type": "markdown",
   "id": "70d5f643",
   "metadata": {},
   "source": [
    "**Does gender affect protective frisks?**\n",
    "\n",
    "Protective frisk is when an officer pats down the driver to see if he/she has a gun. Let's count the number of protective frisks across all stops.\n",
    "Since the column frisk_performed is a boolean series, I will simply calculate the mean of the column. This will return the percentage of True values which correspond to the cases when a frisk was performed."
   ]
  },
  {
   "cell_type": "code",
   "execution_count": 316,
   "id": "2ae0a218",
   "metadata": {},
   "outputs": [
    {
     "data": {
      "text/plain": [
       "0.019083155875320005"
      ]
     },
     "execution_count": 316,
     "metadata": {},
     "output_type": "execute_result"
    }
   ],
   "source": [
    "ri.frisk_performed.mean()"
   ]
  },
  {
   "cell_type": "markdown",
   "id": "8179b7da",
   "metadata": {},
   "source": [
    "Let's now compare the percentage across genders."
   ]
  },
  {
   "cell_type": "code",
   "execution_count": 317,
   "id": "54c3ff57",
   "metadata": {},
   "outputs": [
    {
     "data": {
      "text/plain": [
       "subject_sex\n",
       "female    0.008055\n",
       "male      0.023219\n",
       "Name: frisk_performed, dtype: float64"
      ]
     },
     "execution_count": 317,
     "metadata": {},
     "output_type": "execute_result"
    }
   ],
   "source": [
    "ri.groupby('subject_sex')['frisk_performed'].mean()"
   ]
  },
  {
   "cell_type": "markdown",
   "id": "7e53ebbe",
   "metadata": {},
   "source": [
    "The results show a higher frisk rate for men. However, this frisk calculation included all stops. What about the rate at which each gender is frisked during a search? to answer this question, I will first have to subset the dataframe rows where the column search_conducted corresponds to True."
   ]
  },
  {
   "cell_type": "code",
   "execution_count": 318,
   "id": "4dbe466d",
   "metadata": {},
   "outputs": [
    {
     "data": {
      "text/plain": [
       "subject_sex\n",
       "female    0.434112\n",
       "male      0.535793\n",
       "Name: frisk_performed, dtype: float64"
      ]
     },
     "execution_count": 318,
     "metadata": {},
     "output_type": "execute_result"
    }
   ],
   "source": [
    "searched = ri[ri['search_conducted']==True]\n",
    "searched.groupby('subject_sex')['frisk_performed'].mean()"
   ]
  },
  {
   "cell_type": "markdown",
   "id": "9f351b9f",
   "metadata": {},
   "source": [
    "Males still have a higher percentage but results are more balanced in this case."
   ]
  },
  {
   "cell_type": "markdown",
   "id": "5f4e8f82",
   "metadata": {},
   "source": [
    "**Hourly Arrest Rate**\n",
    "\n",
    "Does the arrest rate vary depending on the time of the day? First, I will calculate the arrest rate across all stops, then, I will calculate the arrest rate per hour of the day and plot it."
   ]
  },
  {
   "cell_type": "code",
   "execution_count": 319,
   "id": "d36a7b4d",
   "metadata": {},
   "outputs": [
    {
     "data": {
      "text/plain": [
       "0.03504065881419355"
      ]
     },
     "execution_count": 319,
     "metadata": {},
     "output_type": "execute_result"
    }
   ],
   "source": [
    "ri.arrest_made.mean()"
   ]
  },
  {
   "cell_type": "code",
   "execution_count": 320,
   "id": "ac3799bd",
   "metadata": {},
   "outputs": [
    {
     "data": {
      "image/png": "[encoded data removed]",
      "text/plain": [
       "<Figure size 1008x504 with 1 Axes>"
      ]
     },
     "metadata": {
      "needs_background": "light"
     },
     "output_type": "display_data"
    }
   ],
   "source": [
    "import matplotlib.pyplot as plt\n",
    "\n",
    "plt.rcParams[\"figure.figsize\"] = (14,7)\n",
    "\n",
    "hourly_arrest_rate = ri.groupby(ri.index.hour)['arrest_made'].mean()\n",
    "\n",
    "hourly_arrest_rate.plot()\n",
    "\n",
    "plt.xlabel('Hours')\n",
    "plt.ylabel('Arrest rate')\n",
    "plt.title('Hourly Arrest Rate', fontsize=15)\n",
    "\n",
    "plt.show()"
   ]
  },
  {
   "cell_type": "markdown",
   "id": "d781f99f",
   "metadata": {},
   "source": [
    "We can notice a significant spike at nightime (especially between 1 and 2 AM) and then a significant decrease in the early morning (at around 5 AM). Arrests seem to be more frequent during night time."
   ]
  },
  {
   "cell_type": "markdown",
   "id": "ff4d23ee",
   "metadata": {},
   "source": [
    "**Do drugs-related stops increase over time?**\n",
    "\n",
    "To answer this question, I will first calculate the annual drug-related stops rate, then plot it to see how it changes over time."
   ]
  },
  {
   "cell_type": "code",
   "execution_count": 321,
   "id": "5da52e13",
   "metadata": {},
   "outputs": [
    {
     "data": {
      "image/png": "[encoded data removed]",
      "text/plain": [
       "<Figure size 1008x504 with 1 Axes>"
      ]
     },
     "metadata": {
      "needs_background": "light"
     },
     "output_type": "display_data"
    }
   ],
   "source": [
    "annual_drug_rate = ri.contraband_drugs.resample('A').mean()\n",
    "\n",
    "annual_drug_rate.plot()\n",
    "\n",
    "plt.xlabel('Year')\n",
    "plt.ylabel('Drug-related stops')\n",
    "plt.title('Drug-related stops over the years', fontsize=15)\n",
    "\n",
    "plt.show()"
   ]
  },
  {
   "cell_type": "markdown",
   "id": "afbb0ad5",
   "metadata": {},
   "source": [
    "The trend seems to show a significant increase over time: according to this data, the rate has more than doubled from 2006 to 2014. \n",
    "But why is this the case? Is this increase correlated with an increase in the search rate? \n",
    "Let's see"
   ]
  },
  {
   "cell_type": "code",
   "execution_count": 322,
   "id": "b45b6252",
   "metadata": {},
   "outputs": [
    {
     "data": {
      "image/png": "[encoded data removed]",
      "text/plain": [
       "<Figure size 1008x504 with 2 Axes>"
      ]
     },
     "metadata": {
      "needs_background": "light"
     },
     "output_type": "display_data"
    }
   ],
   "source": [
    "annual_search_rate = ri.search_conducted.resample('A').mean()\n",
    "\n",
    "annual = pd.concat([annual_drug_rate,annual_search_rate], axis='columns')\n",
    "\n",
    "annual.plot(subplots=True)\n",
    "\n",
    "plt.xlabel('Year')\n",
    "\n",
    "plt.show()"
   ]
  },
  {
   "cell_type": "markdown",
   "id": "a9444865",
   "metadata": {},
   "source": [
    "This disproves my hypothesis that the increase of drug-related searches through the last 15 years might be directly proportional to the increase of the search rate. Starting from 2010, the search rate significantly decreases while the drug rate continues to increase!"
   ]
  },
  {
   "cell_type": "markdown",
   "id": "7800796b",
   "metadata": {},
   "source": [
    "**Violations by District**\n",
    "\n",
    "The state of Rhode Island is broken into six police districts, also known as zones. How do the zones compare in terms of what violations are caught by police? To answer this,I will create a frequency table to determine how many violations of each type took place in each of the six zones. Since I only want to analyze the K zones, I will subset the rows corresponding to these values. After this, I will display the results in a bar plot."
   ]
  },
  {
   "cell_type": "code",
   "execution_count": 323,
   "id": "9449f4c5",
   "metadata": {},
   "outputs": [
    {
     "data": {
      "image/png": "[encoded data removed]",
      "text/plain": [
       "<Figure size 1008x504 with 1 Axes>"
      ]
     },
     "metadata": {
      "needs_background": "light"
     },
     "output_type": "display_data"
    }
   ],
   "source": [
    "violations_per_zone = pd.crosstab(ri.zone,ri.reason_for_stop)\n",
    "\n",
    "k_zones = violations_per_zone.loc['K1':'K3']\n",
    "\n",
    "k_zones.plot(kind='bar',stacked=True)\n",
    "\n",
    "plt.show()"
   ]
  },
  {
   "cell_type": "markdown",
   "id": "cdf671c0",
   "metadata": {},
   "source": [
    "Across all three zones, the majority of the stops are for speeding. However, another interesting thing is that the violation proportions are very similar between zones K2 and K3."
   ]
  },
  {
   "cell_type": "markdown",
   "id": "ebf00f20",
   "metadata": {},
   "source": [
    "**Impact of weather conditions on police activity**\n",
    "\n",
    "In the next sections of the project, I will try to see if there might be some correlation between weather conditions and police activity. In order to do this, I will import data collected from the [National Centers for Environmental Information]('https://www.ncei.noaa.gov/access'). My hypothesis is that weather conditions impact police behavior during traffic stops, so ideally I would look up the historical weather at the location of each stop. However, the traffic stops dataset does not specify stop location, so I am going to use the data from a single weather station near the center of Rhode Island. This is not ideal, but Rhode Island is the smallest US state and so a single station will still give us a general idea of the weather throughout the state."
   ]
  },
  {
   "cell_type": "code",
   "execution_count": 324,
   "id": "edb5fd83",
   "metadata": {},
   "outputs": [
    {
     "data": {
      "text/html": [
       "<div>\n",
       "<style scoped>\n",
       "    .dataframe tbody tr th:only-of-type {\n",
       "        vertical-align: middle;\n",
       "    }\n",
       "\n",
       "    .dataframe tbody tr th {\n",
       "        vertical-align: top;\n",
       "    }\n",
       "\n",
       "    .dataframe thead th {\n",
       "        text-align: right;\n",
       "    }\n",
       "</style>\n",
       "<table border=\"1\" class=\"dataframe\">\n",
       "  <thead>\n",
       "    <tr style=\"text-align: right;\">\n",
       "      <th></th>\n",
       "      <th>STATION</th>\n",
       "      <th>DATE</th>\n",
       "      <th>TAVG</th>\n",
       "      <th>TMIN</th>\n",
       "      <th>TMAX</th>\n",
       "      <th>AWND</th>\n",
       "      <th>WSF2</th>\n",
       "      <th>WT01</th>\n",
       "      <th>WT02</th>\n",
       "      <th>WT03</th>\n",
       "      <th>WT04</th>\n",
       "      <th>WT05</th>\n",
       "      <th>WT06</th>\n",
       "      <th>WT07</th>\n",
       "      <th>WT08</th>\n",
       "      <th>WT09</th>\n",
       "      <th>WT10</th>\n",
       "      <th>WT11</th>\n",
       "      <th>WT13</th>\n",
       "      <th>WT14</th>\n",
       "      <th>WT15</th>\n",
       "      <th>WT16</th>\n",
       "      <th>WT17</th>\n",
       "      <th>WT18</th>\n",
       "      <th>WT19</th>\n",
       "      <th>WT21</th>\n",
       "      <th>WT22</th>\n",
       "    </tr>\n",
       "  </thead>\n",
       "  <tbody>\n",
       "    <tr>\n",
       "      <th>0</th>\n",
       "      <td>USW00014765</td>\n",
       "      <td>2005-01-01</td>\n",
       "      <td>44.0</td>\n",
       "      <td>35</td>\n",
       "      <td>53</td>\n",
       "      <td>8.95</td>\n",
       "      <td>25.1</td>\n",
       "      <td>1.0</td>\n",
       "      <td>NaN</td>\n",
       "      <td>NaN</td>\n",
       "      <td>NaN</td>\n",
       "      <td>NaN</td>\n",
       "      <td>NaN</td>\n",
       "      <td>NaN</td>\n",
       "      <td>NaN</td>\n",
       "      <td>NaN</td>\n",
       "      <td>NaN</td>\n",
       "      <td>NaN</td>\n",
       "      <td>1.0</td>\n",
       "      <td>NaN</td>\n",
       "      <td>NaN</td>\n",
       "      <td>NaN</td>\n",
       "      <td>NaN</td>\n",
       "      <td>NaN</td>\n",
       "      <td>NaN</td>\n",
       "      <td>NaN</td>\n",
       "      <td>NaN</td>\n",
       "    </tr>\n",
       "    <tr>\n",
       "      <th>1</th>\n",
       "      <td>USW00014765</td>\n",
       "      <td>2005-01-02</td>\n",
       "      <td>36.0</td>\n",
       "      <td>28</td>\n",
       "      <td>44</td>\n",
       "      <td>9.40</td>\n",
       "      <td>14.1</td>\n",
       "      <td>NaN</td>\n",
       "      <td>NaN</td>\n",
       "      <td>NaN</td>\n",
       "      <td>NaN</td>\n",
       "      <td>NaN</td>\n",
       "      <td>NaN</td>\n",
       "      <td>NaN</td>\n",
       "      <td>NaN</td>\n",
       "      <td>NaN</td>\n",
       "      <td>NaN</td>\n",
       "      <td>NaN</td>\n",
       "      <td>NaN</td>\n",
       "      <td>NaN</td>\n",
       "      <td>NaN</td>\n",
       "      <td>1.0</td>\n",
       "      <td>NaN</td>\n",
       "      <td>1.0</td>\n",
       "      <td>NaN</td>\n",
       "      <td>NaN</td>\n",
       "      <td>NaN</td>\n",
       "    </tr>\n",
       "    <tr>\n",
       "      <th>2</th>\n",
       "      <td>USW00014765</td>\n",
       "      <td>2005-01-03</td>\n",
       "      <td>49.0</td>\n",
       "      <td>44</td>\n",
       "      <td>53</td>\n",
       "      <td>6.93</td>\n",
       "      <td>17.0</td>\n",
       "      <td>1.0</td>\n",
       "      <td>NaN</td>\n",
       "      <td>NaN</td>\n",
       "      <td>NaN</td>\n",
       "      <td>NaN</td>\n",
       "      <td>NaN</td>\n",
       "      <td>NaN</td>\n",
       "      <td>NaN</td>\n",
       "      <td>NaN</td>\n",
       "      <td>NaN</td>\n",
       "      <td>NaN</td>\n",
       "      <td>1.0</td>\n",
       "      <td>NaN</td>\n",
       "      <td>NaN</td>\n",
       "      <td>1.0</td>\n",
       "      <td>NaN</td>\n",
       "      <td>NaN</td>\n",
       "      <td>NaN</td>\n",
       "      <td>NaN</td>\n",
       "      <td>NaN</td>\n",
       "    </tr>\n",
       "    <tr>\n",
       "      <th>3</th>\n",
       "      <td>USW00014765</td>\n",
       "      <td>2005-01-04</td>\n",
       "      <td>42.0</td>\n",
       "      <td>39</td>\n",
       "      <td>45</td>\n",
       "      <td>6.93</td>\n",
       "      <td>16.1</td>\n",
       "      <td>1.0</td>\n",
       "      <td>NaN</td>\n",
       "      <td>NaN</td>\n",
       "      <td>NaN</td>\n",
       "      <td>NaN</td>\n",
       "      <td>NaN</td>\n",
       "      <td>NaN</td>\n",
       "      <td>NaN</td>\n",
       "      <td>NaN</td>\n",
       "      <td>NaN</td>\n",
       "      <td>NaN</td>\n",
       "      <td>1.0</td>\n",
       "      <td>1.0</td>\n",
       "      <td>NaN</td>\n",
       "      <td>1.0</td>\n",
       "      <td>NaN</td>\n",
       "      <td>NaN</td>\n",
       "      <td>NaN</td>\n",
       "      <td>NaN</td>\n",
       "      <td>NaN</td>\n",
       "    </tr>\n",
       "    <tr>\n",
       "      <th>4</th>\n",
       "      <td>USW00014765</td>\n",
       "      <td>2005-01-05</td>\n",
       "      <td>36.0</td>\n",
       "      <td>28</td>\n",
       "      <td>43</td>\n",
       "      <td>7.83</td>\n",
       "      <td>17.0</td>\n",
       "      <td>1.0</td>\n",
       "      <td>NaN</td>\n",
       "      <td>NaN</td>\n",
       "      <td>NaN</td>\n",
       "      <td>NaN</td>\n",
       "      <td>NaN</td>\n",
       "      <td>NaN</td>\n",
       "      <td>NaN</td>\n",
       "      <td>NaN</td>\n",
       "      <td>NaN</td>\n",
       "      <td>NaN</td>\n",
       "      <td>1.0</td>\n",
       "      <td>NaN</td>\n",
       "      <td>NaN</td>\n",
       "      <td>1.0</td>\n",
       "      <td>NaN</td>\n",
       "      <td>1.0</td>\n",
       "      <td>NaN</td>\n",
       "      <td>NaN</td>\n",
       "      <td>NaN</td>\n",
       "    </tr>\n",
       "  </tbody>\n",
       "</table>\n",
       "</div>"
      ],
      "text/plain": [
       "       STATION        DATE  TAVG  TMIN  TMAX  AWND  WSF2  WT01  WT02  WT03  \\\n",
       "0  USW00014765  2005-01-01  44.0    35    53  8.95  25.1   1.0   NaN   NaN   \n",
       "1  USW00014765  2005-01-02  36.0    28    44  9.40  14.1   NaN   NaN   NaN   \n",
       "2  USW00014765  2005-01-03  49.0    44    53  6.93  17.0   1.0   NaN   NaN   \n",
       "3  USW00014765  2005-01-04  42.0    39    45  6.93  16.1   1.0   NaN   NaN   \n",
       "4  USW00014765  2005-01-05  36.0    28    43  7.83  17.0   1.0   NaN   NaN   \n",
       "\n",
       "   WT04  WT05  WT06  WT07  WT08  WT09  WT10  WT11  WT13  WT14  WT15  WT16  \\\n",
       "0   NaN   NaN   NaN   NaN   NaN   NaN   NaN   NaN   1.0   NaN   NaN   NaN   \n",
       "1   NaN   NaN   NaN   NaN   NaN   NaN   NaN   NaN   NaN   NaN   NaN   1.0   \n",
       "2   NaN   NaN   NaN   NaN   NaN   NaN   NaN   NaN   1.0   NaN   NaN   1.0   \n",
       "3   NaN   NaN   NaN   NaN   NaN   NaN   NaN   NaN   1.0   1.0   NaN   1.0   \n",
       "4   NaN   NaN   NaN   NaN   NaN   NaN   NaN   NaN   1.0   NaN   NaN   1.0   \n",
       "\n",
       "   WT17  WT18  WT19  WT21  WT22  \n",
       "0   NaN   NaN   NaN   NaN   NaN  \n",
       "1   NaN   1.0   NaN   NaN   NaN  \n",
       "2   NaN   NaN   NaN   NaN   NaN  \n",
       "3   NaN   NaN   NaN   NaN   NaN  \n",
       "4   NaN   1.0   NaN   NaN   NaN  "
      ]
     },
     "execution_count": 324,
     "metadata": {},
     "output_type": "execute_result"
    }
   ],
   "source": [
    "weather = pd.read_csv('weather.csv')\n",
    "\n",
    "weather.head()"
   ]
  },
  {
   "cell_type": "markdown",
   "id": "acdad3a5",
   "metadata": {},
   "source": [
    "As a 'data sanity check', I will use the describe method (which computes useful statistics) and visualize the distribution of data points using a boxplot. This a quick way to understand if the data is reasonable and to see if there might be some discrepancies such as extreme outliers or values out of scale.\n",
    "My analysis will be focused on the temperature columns."
   ]
  },
  {
   "cell_type": "code",
   "execution_count": 325,
   "id": "3379a00b",
   "metadata": {},
   "outputs": [
    {
     "name": "stdout",
     "output_type": "stream",
     "text": [
      "              TMIN         TAVG         TMAX\n",
      "count  4017.000000  1217.000000  4017.000000\n",
      "mean     43.484441    52.493016    61.268608\n",
      "std      17.020298    17.830714    18.199517\n",
      "min      -5.000000     6.000000    15.000000\n",
      "25%      30.000000    39.000000    47.000000\n",
      "50%      44.000000    54.000000    62.000000\n",
      "75%      58.000000    68.000000    77.000000\n",
      "max      77.000000    86.000000   102.000000\n"
     ]
    },
    {
     "data": {
      "image/png": "[encoded data removed]",
      "text/plain": [
       "<Figure size 1008x504 with 1 Axes>"
      ]
     },
     "metadata": {
      "needs_background": "light"
     },
     "output_type": "display_data"
    }
   ],
   "source": [
    "print(weather[['TMIN', 'TAVG', 'TMAX']].describe())\n",
    "\n",
    "weather[['TMIN','TAVG','TMAX']].plot(kind='box')\n",
    "\n",
    "plt.show()"
   ]
  },
  {
   "cell_type": "markdown",
   "id": "6fb1b30b",
   "metadata": {},
   "source": [
    "The temperature data looks good so far: the TAVG values are in between TMIN and TMAX, and the measurements and ranges seem reasonable."
   ]
  },
  {
   "cell_type": "markdown",
   "id": "3c1e3dae",
   "metadata": {},
   "source": [
    "Now I will continue to assess whether the dataset seems trustworthy by plotting the difference between the maximum and minimum temperatures."
   ]
  },
  {
   "cell_type": "code",
   "execution_count": 326,
   "id": "e8688a39",
   "metadata": {},
   "outputs": [
    {
     "name": "stdout",
     "output_type": "stream",
     "text": [
      "count    4017.000000\n",
      "mean       17.784167\n",
      "std         6.350720\n",
      "min         2.000000\n",
      "25%        14.000000\n",
      "50%        18.000000\n",
      "75%        22.000000\n",
      "max        43.000000\n",
      "Name: TDIFF, dtype: float64\n"
     ]
    },
    {
     "data": {
      "text/plain": [
       "<AxesSubplot:ylabel='Frequency'>"
      ]
     },
     "execution_count": 326,
     "metadata": {},
     "output_type": "execute_result"
    },
    {
     "data": {
      "image/png": "[encoded data removed]",
      "text/plain": [
       "<Figure size 1008x504 with 1 Axes>"
      ]
     },
     "metadata": {
      "needs_background": "light"
     },
     "output_type": "display_data"
    }
   ],
   "source": [
    "weather['TDIFF'] = weather.TMAX - weather.TMIN\n",
    "\n",
    "print(weather['TDIFF'].describe())\n",
    "\n",
    "weather['TDIFF'].plot(kind='hist', bins=20)"
   ]
  },
  {
   "cell_type": "markdown",
   "id": "d379bbdd",
   "metadata": {},
   "source": [
    "The TDIFF column has no negative values and its distribution is approximately normal, both of which are signs that the data is trustworthy."
   ]
  },
  {
   "cell_type": "markdown",
   "id": "9185478d",
   "metadata": {},
   "source": [
    "**Categorizing the weather**\n",
    "\n",
    "In the following script, I will work with the columns starting with 'WT', which refer to different bad weather conditions (hail, rain, snow etc). These columns show the value of 1 in case of bad weather and null in the opposite case.\n",
    "I want to :\n",
    "1. Create a new dataframe WT that only contains the bad weather columns.\n",
    "2. Create a new column 'bad_conditions' that sums across rows in WT in order to know the total number of bad weather conditions per day (each row is a day).\n",
    "3. Create a new column 'ratings' that maps the counts of bad weather conditions to a rating system. (0 equals to 'good', 1-4 equals to 'bad', 5-9 equals to 'worse').\n",
    "4. Convert the 'rating' column to a category datatype.\n",
    "\n",
    "All these steps allow me to categorize bad weather conditions: in other words, the number of bad weather conditions per day have been mapped to the strings 'good','bad','worse'. This will help in my analysis because a category datatype uses less memory and makes calculations easier.\n",
    "\n",
    "\n",
    "\n",
    "\n",
    "\n",
    "\n",
    "\n",
    "\n"
   ]
  },
  {
   "cell_type": "code",
   "execution_count": 328,
   "id": "1d63e86d",
   "metadata": {},
   "outputs": [
    {
     "data": {
      "image/png": "[encoded data removed]",
      "text/plain": [
       "<Figure size 1008x504 with 1 Axes>"
      ]
     },
     "metadata": {
      "needs_background": "light"
     },
     "output_type": "display_data"
    }
   ],
   "source": [
    "WT = weather.loc[:, 'WT01':'WT22']\n",
    "\n",
    "weather['bad_conditions'] = WT.sum(axis='columns')\n",
    "\n",
    "weather['bad_conditions'] = weather.bad_conditions.fillna(0).astype('int')\n",
    "\n",
    "weather.bad_conditions.plot(kind='hist')\n",
    "\n",
    "plt.show()"
   ]
  },
  {
   "cell_type": "markdown",
   "id": "80558dfd",
   "metadata": {},
   "source": [
    "The histogram shows that the majority of days had good weather (0 bad weather conditions), a smaller number of days had between 1 and 4 bad weather conditions and  an even smaller percentage had more than 4 bad weather conditions. By looking at this graph, it seems like a reasonable choice to create the categories 'good' (0 bad conditions), 'bad' (1 to 4 bad conditions) and 'terrible' (more than 4)."
   ]
  },
  {
   "cell_type": "code",
   "execution_count": 329,
   "id": "c5aaba4d",
   "metadata": {},
   "outputs": [
    {
     "data": {
      "text/plain": [
       "bad         1836\n",
       "good        1749\n",
       "terrible     432\n",
       "Name: ratings, dtype: int64"
      ]
     },
     "execution_count": 329,
     "metadata": {},
     "output_type": "execute_result"
    }
   ],
   "source": [
    "mapping = {0:'good', 1:'bad', 2:'bad', 3:'bad', 4:'bad', 5:'terrible', 6:'terrible', 7:'terrible', 8:'terrible', 9:'terrible'}\n",
    "\n",
    "weather['ratings'] = weather.bad_conditions.map(mapping)\n",
    "\n",
    "weather.ratings.value_counts()"
   ]
  },
  {
   "cell_type": "markdown",
   "id": "d894310a",
   "metadata": {},
   "source": [
    "Now, the last thing to do is to convert the ratings column to a category datatype."
   ]
  },
  {
   "cell_type": "code",
   "execution_count": 330,
   "id": "4c307cc6",
   "metadata": {},
   "outputs": [
    {
     "data": {
      "text/plain": [
       "0    bad\n",
       "1    bad\n",
       "2    bad\n",
       "3    bad\n",
       "4    bad\n",
       "Name: ratings, dtype: category\n",
       "Categories (3, object): ['good' < 'bad' < 'terrible']"
      ]
     },
     "execution_count": 330,
     "metadata": {},
     "output_type": "execute_result"
    }
   ],
   "source": [
    "cats = pd.CategoricalDtype(['good', 'bad', 'terrible'], ordered=True)\n",
    "\n",
    "weather['ratings'] = weather.ratings.astype(cats)\n",
    "\n",
    "weather.ratings.head()"
   ]
  },
  {
   "cell_type": "markdown",
   "id": "74a0085a",
   "metadata": {},
   "source": [
    "**Merging the stops and weather datasets**\n",
    "\n",
    "Since the final purpose is to analyze possible correlations between weather conditions and police stops, the next step will be to merge both datasets into one. Before doing this, a couple things need to be done:\n",
    "- resetting the index of both dataframes since they will go lost during the merge.\n",
    "- creating a new dataframe from the weather dataset that only contains my columns of interest\n",
    "- making the sure the columns the dataframes will be joined on have the same datatype. In this case, I will join on the date columns, so both need to be a datetime object."
   ]
  },
  {
   "cell_type": "code",
   "execution_count": 331,
   "id": "42bb3707",
   "metadata": {},
   "outputs": [
    {
     "name": "stdout",
     "output_type": "stream",
     "text": [
      "         DATE ratings\n",
      "0  2005-01-01     bad\n",
      "1  2005-01-02     bad\n",
      "2  2005-01-03     bad\n",
      "3  2005-01-04     bad\n",
      "4  2005-01-05     bad\n"
     ]
    },
    {
     "data": {
      "text/html": [
       "<div>\n",
       "<style scoped>\n",
       "    .dataframe tbody tr th:only-of-type {\n",
       "        vertical-align: middle;\n",
       "    }\n",
       "\n",
       "    .dataframe tbody tr th {\n",
       "        vertical-align: top;\n",
       "    }\n",
       "\n",
       "    .dataframe thead th {\n",
       "        text-align: right;\n",
       "    }\n",
       "</style>\n",
       "<table border=\"1\" class=\"dataframe\">\n",
       "  <thead>\n",
       "    <tr style=\"text-align: right;\">\n",
       "      <th></th>\n",
       "      <th>date_time</th>\n",
       "      <th>raw_row_number</th>\n",
       "      <th>date</th>\n",
       "      <th>time</th>\n",
       "      <th>zone</th>\n",
       "      <th>subject_race</th>\n",
       "      <th>subject_sex</th>\n",
       "      <th>department_id</th>\n",
       "      <th>type</th>\n",
       "      <th>arrest_made</th>\n",
       "      <th>citation_issued</th>\n",
       "      <th>warning_issued</th>\n",
       "      <th>outcome</th>\n",
       "      <th>contraband_drugs</th>\n",
       "      <th>frisk_performed</th>\n",
       "      <th>search_conducted</th>\n",
       "      <th>reason_for_stop</th>\n",
       "      <th>vehicle_make</th>\n",
       "      <th>vehicle_model</th>\n",
       "      <th>raw_BasisForStop</th>\n",
       "      <th>raw_OperatorRace</th>\n",
       "      <th>raw_OperatorSex</th>\n",
       "      <th>raw_ResultOfStop</th>\n",
       "    </tr>\n",
       "  </thead>\n",
       "  <tbody>\n",
       "    <tr>\n",
       "      <th>0</th>\n",
       "      <td>2005-11-22 11:15:00</td>\n",
       "      <td>1</td>\n",
       "      <td>2005-11-22</td>\n",
       "      <td>11:15:00</td>\n",
       "      <td>X3</td>\n",
       "      <td>white</td>\n",
       "      <td>male</td>\n",
       "      <td>200</td>\n",
       "      <td>vehicular</td>\n",
       "      <td>False</td>\n",
       "      <td>True</td>\n",
       "      <td>False</td>\n",
       "      <td>citation</td>\n",
       "      <td>NaN</td>\n",
       "      <td>False</td>\n",
       "      <td>False</td>\n",
       "      <td>Speeding</td>\n",
       "      <td>NaN</td>\n",
       "      <td>NaN</td>\n",
       "      <td>SP</td>\n",
       "      <td>W</td>\n",
       "      <td>M</td>\n",
       "      <td>M</td>\n",
       "    </tr>\n",
       "    <tr>\n",
       "      <th>1</th>\n",
       "      <td>2005-10-01 12:20:00</td>\n",
       "      <td>2</td>\n",
       "      <td>2005-10-01</td>\n",
       "      <td>12:20:00</td>\n",
       "      <td>X3</td>\n",
       "      <td>white</td>\n",
       "      <td>male</td>\n",
       "      <td>200</td>\n",
       "      <td>vehicular</td>\n",
       "      <td>False</td>\n",
       "      <td>True</td>\n",
       "      <td>False</td>\n",
       "      <td>citation</td>\n",
       "      <td>NaN</td>\n",
       "      <td>False</td>\n",
       "      <td>False</td>\n",
       "      <td>Speeding</td>\n",
       "      <td>NaN</td>\n",
       "      <td>NaN</td>\n",
       "      <td>SP</td>\n",
       "      <td>W</td>\n",
       "      <td>M</td>\n",
       "      <td>M</td>\n",
       "    </tr>\n",
       "    <tr>\n",
       "      <th>2</th>\n",
       "      <td>2005-10-01 12:30:00</td>\n",
       "      <td>3</td>\n",
       "      <td>2005-10-01</td>\n",
       "      <td>12:30:00</td>\n",
       "      <td>X3</td>\n",
       "      <td>white</td>\n",
       "      <td>female</td>\n",
       "      <td>200</td>\n",
       "      <td>vehicular</td>\n",
       "      <td>False</td>\n",
       "      <td>True</td>\n",
       "      <td>False</td>\n",
       "      <td>citation</td>\n",
       "      <td>NaN</td>\n",
       "      <td>False</td>\n",
       "      <td>False</td>\n",
       "      <td>Speeding</td>\n",
       "      <td>NaN</td>\n",
       "      <td>NaN</td>\n",
       "      <td>SP</td>\n",
       "      <td>W</td>\n",
       "      <td>F</td>\n",
       "      <td>M</td>\n",
       "    </tr>\n",
       "    <tr>\n",
       "      <th>3</th>\n",
       "      <td>2005-10-01 12:50:00</td>\n",
       "      <td>4</td>\n",
       "      <td>2005-10-01</td>\n",
       "      <td>12:50:00</td>\n",
       "      <td>X3</td>\n",
       "      <td>white</td>\n",
       "      <td>male</td>\n",
       "      <td>200</td>\n",
       "      <td>vehicular</td>\n",
       "      <td>False</td>\n",
       "      <td>True</td>\n",
       "      <td>False</td>\n",
       "      <td>citation</td>\n",
       "      <td>NaN</td>\n",
       "      <td>False</td>\n",
       "      <td>False</td>\n",
       "      <td>Speeding</td>\n",
       "      <td>NaN</td>\n",
       "      <td>NaN</td>\n",
       "      <td>SP</td>\n",
       "      <td>W</td>\n",
       "      <td>M</td>\n",
       "      <td>M</td>\n",
       "    </tr>\n",
       "    <tr>\n",
       "      <th>4</th>\n",
       "      <td>2005-10-01 13:10:00</td>\n",
       "      <td>5</td>\n",
       "      <td>2005-10-01</td>\n",
       "      <td>13:10:00</td>\n",
       "      <td>X3</td>\n",
       "      <td>white</td>\n",
       "      <td>female</td>\n",
       "      <td>200</td>\n",
       "      <td>vehicular</td>\n",
       "      <td>False</td>\n",
       "      <td>True</td>\n",
       "      <td>False</td>\n",
       "      <td>citation</td>\n",
       "      <td>NaN</td>\n",
       "      <td>False</td>\n",
       "      <td>False</td>\n",
       "      <td>Speeding</td>\n",
       "      <td>NaN</td>\n",
       "      <td>NaN</td>\n",
       "      <td>SP</td>\n",
       "      <td>W</td>\n",
       "      <td>F</td>\n",
       "      <td>M</td>\n",
       "    </tr>\n",
       "  </tbody>\n",
       "</table>\n",
       "</div>"
      ],
      "text/plain": [
       "            date_time  raw_row_number        date      time zone subject_race  \\\n",
       "0 2005-11-22 11:15:00               1  2005-11-22  11:15:00   X3        white   \n",
       "1 2005-10-01 12:20:00               2  2005-10-01  12:20:00   X3        white   \n",
       "2 2005-10-01 12:30:00               3  2005-10-01  12:30:00   X3        white   \n",
       "3 2005-10-01 12:50:00               4  2005-10-01  12:50:00   X3        white   \n",
       "4 2005-10-01 13:10:00               5  2005-10-01  13:10:00   X3        white   \n",
       "\n",
       "  subject_sex department_id       type  arrest_made  citation_issued  \\\n",
       "0        male           200  vehicular        False             True   \n",
       "1        male           200  vehicular        False             True   \n",
       "2      female           200  vehicular        False             True   \n",
       "3        male           200  vehicular        False             True   \n",
       "4      female           200  vehicular        False             True   \n",
       "\n",
       "   warning_issued   outcome contraband_drugs  frisk_performed  \\\n",
       "0           False  citation              NaN            False   \n",
       "1           False  citation              NaN            False   \n",
       "2           False  citation              NaN            False   \n",
       "3           False  citation              NaN            False   \n",
       "4           False  citation              NaN            False   \n",
       "\n",
       "   search_conducted reason_for_stop vehicle_make vehicle_model  \\\n",
       "0             False        Speeding          NaN           NaN   \n",
       "1             False        Speeding          NaN           NaN   \n",
       "2             False        Speeding          NaN           NaN   \n",
       "3             False        Speeding          NaN           NaN   \n",
       "4             False        Speeding          NaN           NaN   \n",
       "\n",
       "  raw_BasisForStop raw_OperatorRace raw_OperatorSex raw_ResultOfStop  \n",
       "0               SP                W               M                M  \n",
       "1               SP                W               M                M  \n",
       "2               SP                W               F                M  \n",
       "3               SP                W               M                M  \n",
       "4               SP                W               F                M  "
      ]
     },
     "execution_count": 331,
     "metadata": {},
     "output_type": "execute_result"
    }
   ],
   "source": [
    "ri.reset_index(inplace=True)\n",
    "\n",
    "weather_rating = weather[['DATE', 'ratings']]\n",
    "\n",
    "\n",
    "\n",
    "print(weather_rating.head())\n",
    "\n",
    "ri.head()"
   ]
  },
  {
   "cell_type": "code",
   "execution_count": 397,
   "id": "cef7c890",
   "metadata": {},
   "outputs": [
    {
     "name": "stderr",
     "output_type": "stream",
     "text": [
      "/var/folders/j_/l3vzl03913z2sw704nqb4lfc0000gn/T/ipykernel_78340/920722980.py:3: SettingWithCopyWarning: \n",
      "A value is trying to be set on a copy of a slice from a DataFrame.\n",
      "Try using .loc[row_indexer,col_indexer] = value instead\n",
      "\n",
      "See the caveats in the documentation: https://pandas.pydata.org/pandas-docs/stable/user_guide/indexing.html#returning-a-view-versus-a-copy\n",
      "  weather_rating.loc[:,'DATE'] = pd.to_datetime(weather_rating.DATE)\n"
     ]
    }
   ],
   "source": [
    "ri.loc[:,'date']= pd.to_datetime(ri.date)\n",
    "\n",
    "weather_rating.loc[:,'DATE'] = pd.to_datetime(weather_rating.DATE)\n",
    "\n"
   ]
  },
  {
   "cell_type": "code",
   "execution_count": 399,
   "id": "18249c59",
   "metadata": {},
   "outputs": [
    {
     "data": {
      "text/plain": [
       "(473821, 25)"
      ]
     },
     "execution_count": 399,
     "metadata": {},
     "output_type": "execute_result"
    }
   ],
   "source": [
    "ri_weather = pd.merge(left= ri, right=weather_rating,left_on = 'date', right_on = 'DATE', how='left')\n",
    "\n",
    "ri_weather.shape"
   ]
  },
  {
   "cell_type": "markdown",
   "id": "5bd2b1e4",
   "metadata": {},
   "source": [
    "Now that I joined the two datasets, I will reset the index to the date_time column"
   ]
  },
  {
   "cell_type": "code",
   "execution_count": 400,
   "id": "a3577478",
   "metadata": {},
   "outputs": [],
   "source": [
    "ri_weather.set_index('date_time', inplace= True)"
   ]
  },
  {
   "cell_type": "markdown",
   "id": "12073fa2",
   "metadata": {},
   "source": [
    "**Does weather affect arrest rates?**\n",
    "\n",
    "Do police officers arrest drivers more often when the weather is bad? Let's find out!\n",
    "\n",
    "- First, I'll calculate the overall arrest rate.\n",
    "- Then, I'll calculate the arrest rate for each of the weather ratings I previously assigned.\n",
    "- Finally, I'll add violation type as a second factor in the analysis, to see if that accounts for any differences in the arrest rate."
   ]
  },
  {
   "cell_type": "code",
   "execution_count": 401,
   "id": "31f8f648",
   "metadata": {},
   "outputs": [
    {
     "name": "stdout",
     "output_type": "stream",
     "text": [
      "Overall arrest rate:\n",
      "\n",
      "0.03504065881419355\n",
      "\n",
      "\n",
      "Arrest rate by weather condition:\n",
      "\n",
      "ratings\n",
      "good        0.033468\n",
      "bad         0.035692\n",
      "terrible    0.040023\n",
      "Name: arrest_made, dtype: float64\n"
     ]
    }
   ],
   "source": [
    "print('Overall arrest rate:\\n\\n{}'.format(ri_weather.arrest_made.mean()))\n",
    "\n",
    "print('\\n')\n",
    "      \n",
    "print('Arrest rate by weather condition:\\n\\n{}'.format(ri_weather.groupby('ratings').arrest_made.mean()))"
   ]
  },
  {
   "cell_type": "markdown",
   "id": "a55b5a7d",
   "metadata": {},
   "source": [
    "The arrest rate does seem to increase proportionally to the bad weather. Let's now plot a pivot to visualize the arrest rate in correlation to weather conditions and violations."
   ]
  },
  {
   "cell_type": "code",
   "execution_count": 402,
   "id": "1c9c66aa",
   "metadata": {},
   "outputs": [
    {
     "data": {
      "text/html": [
       "<div>\n",
       "<style scoped>\n",
       "    .dataframe tbody tr th:only-of-type {\n",
       "        vertical-align: middle;\n",
       "    }\n",
       "\n",
       "    .dataframe tbody tr th {\n",
       "        vertical-align: top;\n",
       "    }\n",
       "\n",
       "    .dataframe thead th {\n",
       "        text-align: right;\n",
       "    }\n",
       "</style>\n",
       "<table border=\"1\" class=\"dataframe\">\n",
       "  <thead>\n",
       "    <tr style=\"text-align: right;\">\n",
       "      <th>ratings</th>\n",
       "      <th>good</th>\n",
       "      <th>bad</th>\n",
       "      <th>terrible</th>\n",
       "    </tr>\n",
       "    <tr>\n",
       "      <th>reason_for_stop</th>\n",
       "      <th></th>\n",
       "      <th></th>\n",
       "      <th></th>\n",
       "    </tr>\n",
       "  </thead>\n",
       "  <tbody>\n",
       "    <tr>\n",
       "      <th>APB</th>\n",
       "      <td>0.256757</td>\n",
       "      <td>0.318681</td>\n",
       "      <td>0.390244</td>\n",
       "    </tr>\n",
       "    <tr>\n",
       "      <th>Call for Service</th>\n",
       "      <td>0.213403</td>\n",
       "      <td>0.222861</td>\n",
       "      <td>0.225758</td>\n",
       "    </tr>\n",
       "    <tr>\n",
       "      <th>Equipment/Inspection Violation</th>\n",
       "      <td>0.059287</td>\n",
       "      <td>0.062757</td>\n",
       "      <td>0.100847</td>\n",
       "    </tr>\n",
       "    <tr>\n",
       "      <th>Motorist Assist/Courtesy</th>\n",
       "      <td>0.314465</td>\n",
       "      <td>0.269006</td>\n",
       "      <td>0.228571</td>\n",
       "    </tr>\n",
       "    <tr>\n",
       "      <th>Other Traffic Violation</th>\n",
       "      <td>0.056029</td>\n",
       "      <td>0.058363</td>\n",
       "      <td>0.062690</td>\n",
       "    </tr>\n",
       "    <tr>\n",
       "      <th>Registration Violation</th>\n",
       "      <td>0.077795</td>\n",
       "      <td>0.093771</td>\n",
       "      <td>0.099883</td>\n",
       "    </tr>\n",
       "    <tr>\n",
       "      <th>Seatbelt Violation</th>\n",
       "      <td>0.025593</td>\n",
       "      <td>0.028926</td>\n",
       "      <td>0.000000</td>\n",
       "    </tr>\n",
       "    <tr>\n",
       "      <th>Special Detail/Directed Patrol</th>\n",
       "      <td>0.009594</td>\n",
       "      <td>0.009726</td>\n",
       "      <td>0.004829</td>\n",
       "    </tr>\n",
       "    <tr>\n",
       "      <th>Speeding</th>\n",
       "      <td>0.013240</td>\n",
       "      <td>0.013395</td>\n",
       "      <td>0.016635</td>\n",
       "    </tr>\n",
       "    <tr>\n",
       "      <th>Suspicious Person</th>\n",
       "      <td>0.356436</td>\n",
       "      <td>0.408163</td>\n",
       "      <td>0.272727</td>\n",
       "    </tr>\n",
       "    <tr>\n",
       "      <th>Violation of City/Town Ordinance</th>\n",
       "      <td>0.059471</td>\n",
       "      <td>0.049041</td>\n",
       "      <td>0.092784</td>\n",
       "    </tr>\n",
       "    <tr>\n",
       "      <th>Warrant</th>\n",
       "      <td>0.788462</td>\n",
       "      <td>0.558140</td>\n",
       "      <td>0.400000</td>\n",
       "    </tr>\n",
       "  </tbody>\n",
       "</table>\n",
       "</div>"
      ],
      "text/plain": [
       "ratings                               good       bad  terrible\n",
       "reason_for_stop                                               \n",
       "APB                               0.256757  0.318681  0.390244\n",
       "Call for Service                  0.213403  0.222861  0.225758\n",
       "Equipment/Inspection Violation    0.059287  0.062757  0.100847\n",
       "Motorist Assist/Courtesy          0.314465  0.269006  0.228571\n",
       "Other Traffic Violation           0.056029  0.058363  0.062690\n",
       "Registration Violation            0.077795  0.093771  0.099883\n",
       "Seatbelt Violation                0.025593  0.028926  0.000000\n",
       "Special Detail/Directed Patrol    0.009594  0.009726  0.004829\n",
       "Speeding                          0.013240  0.013395  0.016635\n",
       "Suspicious Person                 0.356436  0.408163  0.272727\n",
       "Violation of City/Town Ordinance  0.059471  0.049041  0.092784\n",
       "Warrant                           0.788462  0.558140  0.400000"
      ]
     },
     "execution_count": 402,
     "metadata": {},
     "output_type": "execute_result"
    }
   ],
   "source": [
    "ri_weather.pivot_table(index='reason_for_stop', columns='ratings', values='arrest_made')"
   ]
  },
  {
   "cell_type": "markdown",
   "id": "7fda991b",
   "metadata": {},
   "source": [
    "The arrest rate increases as the weather gets worse, and that trend persists across many of the violation types. This doesn't prove a causal link, but it's quite an interesting result!"
   ]
  },
  {
   "cell_type": "code",
   "execution_count": null,
   "id": "79fd5598",
   "metadata": {},
   "outputs": [],
   "source": []
  }
 ],
 "metadata": {
  "kernelspec": {
   "display_name": "open_policing_project",
   "language": "python",
   "name": "open_policing_project"
  },
  "language_info": {
   "codemirror_mode": {
    "name": "ipython",
    "version": 3
   },
   "file_extension": ".py",
   "mimetype": "text/x-python",
   "name": "python",
   "nbconvert_exporter": "python",
   "pygments_lexer": "ipython3",
   "version": "3.10.4"
  }
 },
 "nbformat": 4,
 "nbformat_minor": 5
}
